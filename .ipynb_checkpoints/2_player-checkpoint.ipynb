{
 "cells": [
  {
   "cell_type": "markdown",
   "id": "f30280ca",
   "metadata": {},
   "source": [
    "Game player\n",
    "---"
   ]
  },
  {
   "cell_type": "code",
   "execution_count": 1,
   "id": "33bb8bea",
   "metadata": {},
   "outputs": [],
   "source": [
    "import tensorflow as tf\n",
    "import keras\n",
    "import numpy as np\n",
    "import matplotlib.pyplot as plt\n",
    "plt.style.use('dark_background')\n",
    "\n",
    "import connect4"
   ]
  },
  {
   "cell_type": "code",
   "execution_count": 59,
   "id": "389a6d92",
   "metadata": {},
   "outputs": [],
   "source": [
    "class Player:\n",
    "    def __init__(self, name = 'Anders', num_actions = 7, random_seed = 2022):\n",
    "        self.name = name\n",
    "        self.num_actions = num_actions\n",
    "        self.rng = np.random.default_rng(random_seed)\n",
    "        \n",
    "    def decide_random(self):\n",
    "        decision = self.rng.choice(self.num_actions)\n",
    "        return decision\n",
    "\n",
    "# class C4Model(keras.models.Model):\n",
    "#     def __init__(self, num_actions = 7, hidden_size = 1080)\n",
    "\n",
    "class PlayerAC(Player):\n",
    "    def __init__(self, name = 'Anders', num_actions = 7, hidden_size = 1080, random_seed = 2022):\n",
    "        super().__init__(name, num_actions, random_seed)\n",
    "        self.input_layer = tf.keras.Input(shape = (6,7), name = 'input layer')\n",
    "        self.convolution_h = tf.keras.layers.Conv2D(8,\n",
    "                                                    (1,4),\n",
    "                                                    activation='relu',\n",
    "                                                    input_shape = (6,7),\n",
    "                                                    name = 'horizontal convolution'\n",
    "                                                   )\n",
    "        self.convolution_v = tf.keras.layers.Conv2D(8,\n",
    "                                                    (4,1),\n",
    "                                                    activation='relu',\n",
    "                                                    input_shape = (6,7),\n",
    "                                                    name = 'vertical convolution'\n",
    "                                                   )\n",
    "        self.convolution_square = tf.keras.layers.Conv2D(2,\n",
    "                                                         (4,4),\n",
    "                                                         activation='relu',\n",
    "                                                         input_shape = (6,7),\n",
    "                                                         name = 'square convolution'\n",
    "                                                        )\n",
    "        self.common1 = tf.keras.layers.Dense(hidden_size,\n",
    "                                             activation = 'relu',\n",
    "                                            name = 'common 1')\n",
    "        self.actor = tf.keras.layers.Dense(1,\n",
    "                                    activation = 'softmax',\n",
    "                                    name = 'actor'\n",
    "                                   )\n",
    "        \n",
    "    def call(self, this_input):\n",
    "        inputs = tf.expand_dims(this_input, 3)\n",
    "        hx = self.convolution_h(inputs)\n",
    "        vx = self.convolution_v(inputs)\n",
    "        sqx = self.convolution_square(inputs)\n",
    "        x = self.common1([hx,vx,sqx,inputs])\n",
    "        out = self.actor(x)\n",
    "        "
   ]
  },
  {
   "cell_type": "code",
   "execution_count": 60,
   "id": "cbddd6e2",
   "metadata": {},
   "outputs": [],
   "source": [
    "play = PlayerAC()"
   ]
  },
  {
   "cell_type": "code",
   "execution_count": 61,
   "id": "fee06ddd",
   "metadata": {},
   "outputs": [
    {
     "ename": "InvalidArgumentError",
     "evalue": "ConcatOp : Dimension 1 in both shapes must be equal: shape[0] = [1,6,4,8] vs. shape[1] = [1,3,7,8] [Op:ConcatV2] name: concat",
     "output_type": "error",
     "traceback": [
      "\u001b[1;31m---------------------------------------------------------------------------\u001b[0m",
      "\u001b[1;31mInvalidArgumentError\u001b[0m                      Traceback (most recent call last)",
      "\u001b[1;32m~\\AppData\\Local\\Temp/ipykernel_2896/1434165991.py\u001b[0m in \u001b[0;36m<module>\u001b[1;34m\u001b[0m\n\u001b[1;32m----> 1\u001b[1;33m \u001b[0mplay\u001b[0m\u001b[1;33m.\u001b[0m\u001b[0mcall\u001b[0m\u001b[1;33m(\u001b[0m\u001b[0mtf\u001b[0m\u001b[1;33m.\u001b[0m\u001b[0mconvert_to_tensor\u001b[0m\u001b[1;33m(\u001b[0m\u001b[1;33m[\u001b[0m\u001b[0mc4\u001b[0m\u001b[1;33m.\u001b[0m\u001b[0mgrid\u001b[0m\u001b[1;33m.\u001b[0m\u001b[0mastype\u001b[0m\u001b[1;33m(\u001b[0m\u001b[1;34m'float32'\u001b[0m\u001b[1;33m)\u001b[0m\u001b[1;33m]\u001b[0m\u001b[1;33m)\u001b[0m\u001b[1;33m)\u001b[0m\u001b[1;33m\u001b[0m\u001b[1;33m\u001b[0m\u001b[0m\n\u001b[0m",
      "\u001b[1;32m~\\AppData\\Local\\Temp/ipykernel_2896/4227580405.py\u001b[0m in \u001b[0;36mcall\u001b[1;34m(self, this_input)\u001b[0m\n\u001b[0;32m     47\u001b[0m         \u001b[0mvx\u001b[0m \u001b[1;33m=\u001b[0m \u001b[0mself\u001b[0m\u001b[1;33m.\u001b[0m\u001b[0mconvolution_v\u001b[0m\u001b[1;33m(\u001b[0m\u001b[0minputs\u001b[0m\u001b[1;33m)\u001b[0m\u001b[1;33m\u001b[0m\u001b[1;33m\u001b[0m\u001b[0m\n\u001b[0;32m     48\u001b[0m         \u001b[0msqx\u001b[0m \u001b[1;33m=\u001b[0m \u001b[0mself\u001b[0m\u001b[1;33m.\u001b[0m\u001b[0mconvolution_square\u001b[0m\u001b[1;33m(\u001b[0m\u001b[0minputs\u001b[0m\u001b[1;33m)\u001b[0m\u001b[1;33m\u001b[0m\u001b[1;33m\u001b[0m\u001b[0m\n\u001b[1;32m---> 49\u001b[1;33m         \u001b[0mx\u001b[0m \u001b[1;33m=\u001b[0m \u001b[0mself\u001b[0m\u001b[1;33m.\u001b[0m\u001b[0mcommon1\u001b[0m\u001b[1;33m(\u001b[0m\u001b[0mtf\u001b[0m\u001b[1;33m.\u001b[0m\u001b[0mconcat\u001b[0m\u001b[1;33m(\u001b[0m\u001b[1;33m[\u001b[0m\u001b[0mhx\u001b[0m\u001b[1;33m,\u001b[0m\u001b[0mvx\u001b[0m\u001b[1;33m,\u001b[0m\u001b[0msqx\u001b[0m\u001b[1;33m,\u001b[0m\u001b[0minputs\u001b[0m\u001b[1;33m]\u001b[0m\u001b[1;33m,\u001b[0m \u001b[1;36m0\u001b[0m\u001b[1;33m)\u001b[0m\u001b[1;33m)\u001b[0m\u001b[1;33m\u001b[0m\u001b[1;33m\u001b[0m\u001b[0m\n\u001b[0m\u001b[0;32m     50\u001b[0m         \u001b[0mout\u001b[0m \u001b[1;33m=\u001b[0m \u001b[0mself\u001b[0m\u001b[1;33m.\u001b[0m\u001b[0mactor\u001b[0m\u001b[1;33m(\u001b[0m\u001b[0mx\u001b[0m\u001b[1;33m)\u001b[0m\u001b[1;33m\u001b[0m\u001b[1;33m\u001b[0m\u001b[0m\n\u001b[0;32m     51\u001b[0m \u001b[1;33m\u001b[0m\u001b[0m\n",
      "\u001b[1;32mC:\\ProgramData\\Anaconda3\\lib\\site-packages\\tensorflow\\python\\util\\traceback_utils.py\u001b[0m in \u001b[0;36merror_handler\u001b[1;34m(*args, **kwargs)\u001b[0m\n\u001b[0;32m    151\u001b[0m     \u001b[1;32mexcept\u001b[0m \u001b[0mException\u001b[0m \u001b[1;32mas\u001b[0m \u001b[0me\u001b[0m\u001b[1;33m:\u001b[0m\u001b[1;33m\u001b[0m\u001b[1;33m\u001b[0m\u001b[0m\n\u001b[0;32m    152\u001b[0m       \u001b[0mfiltered_tb\u001b[0m \u001b[1;33m=\u001b[0m \u001b[0m_process_traceback_frames\u001b[0m\u001b[1;33m(\u001b[0m\u001b[0me\u001b[0m\u001b[1;33m.\u001b[0m\u001b[0m__traceback__\u001b[0m\u001b[1;33m)\u001b[0m\u001b[1;33m\u001b[0m\u001b[1;33m\u001b[0m\u001b[0m\n\u001b[1;32m--> 153\u001b[1;33m       \u001b[1;32mraise\u001b[0m \u001b[0me\u001b[0m\u001b[1;33m.\u001b[0m\u001b[0mwith_traceback\u001b[0m\u001b[1;33m(\u001b[0m\u001b[0mfiltered_tb\u001b[0m\u001b[1;33m)\u001b[0m \u001b[1;32mfrom\u001b[0m \u001b[1;32mNone\u001b[0m\u001b[1;33m\u001b[0m\u001b[1;33m\u001b[0m\u001b[0m\n\u001b[0m\u001b[0;32m    154\u001b[0m     \u001b[1;32mfinally\u001b[0m\u001b[1;33m:\u001b[0m\u001b[1;33m\u001b[0m\u001b[1;33m\u001b[0m\u001b[0m\n\u001b[0;32m    155\u001b[0m       \u001b[1;32mdel\u001b[0m \u001b[0mfiltered_tb\u001b[0m\u001b[1;33m\u001b[0m\u001b[1;33m\u001b[0m\u001b[0m\n",
      "\u001b[1;32mC:\\ProgramData\\Anaconda3\\lib\\site-packages\\tensorflow\\python\\framework\\ops.py\u001b[0m in \u001b[0;36mraise_from_not_ok_status\u001b[1;34m(e, name)\u001b[0m\n\u001b[0;32m   7184\u001b[0m \u001b[1;32mdef\u001b[0m \u001b[0mraise_from_not_ok_status\u001b[0m\u001b[1;33m(\u001b[0m\u001b[0me\u001b[0m\u001b[1;33m,\u001b[0m \u001b[0mname\u001b[0m\u001b[1;33m)\u001b[0m\u001b[1;33m:\u001b[0m\u001b[1;33m\u001b[0m\u001b[1;33m\u001b[0m\u001b[0m\n\u001b[0;32m   7185\u001b[0m   \u001b[0me\u001b[0m\u001b[1;33m.\u001b[0m\u001b[0mmessage\u001b[0m \u001b[1;33m+=\u001b[0m \u001b[1;33m(\u001b[0m\u001b[1;34m\" name: \"\u001b[0m \u001b[1;33m+\u001b[0m \u001b[0mname\u001b[0m \u001b[1;32mif\u001b[0m \u001b[0mname\u001b[0m \u001b[1;32mis\u001b[0m \u001b[1;32mnot\u001b[0m \u001b[1;32mNone\u001b[0m \u001b[1;32melse\u001b[0m \u001b[1;34m\"\"\u001b[0m\u001b[1;33m)\u001b[0m\u001b[1;33m\u001b[0m\u001b[1;33m\u001b[0m\u001b[0m\n\u001b[1;32m-> 7186\u001b[1;33m   \u001b[1;32mraise\u001b[0m \u001b[0mcore\u001b[0m\u001b[1;33m.\u001b[0m\u001b[0m_status_to_exception\u001b[0m\u001b[1;33m(\u001b[0m\u001b[0me\u001b[0m\u001b[1;33m)\u001b[0m \u001b[1;32mfrom\u001b[0m \u001b[1;32mNone\u001b[0m  \u001b[1;31m# pylint: disable=protected-access\u001b[0m\u001b[1;33m\u001b[0m\u001b[1;33m\u001b[0m\u001b[0m\n\u001b[0m\u001b[0;32m   7187\u001b[0m \u001b[1;33m\u001b[0m\u001b[0m\n\u001b[0;32m   7188\u001b[0m \u001b[1;33m\u001b[0m\u001b[0m\n",
      "\u001b[1;31mInvalidArgumentError\u001b[0m: ConcatOp : Dimension 1 in both shapes must be equal: shape[0] = [1,6,4,8] vs. shape[1] = [1,3,7,8] [Op:ConcatV2] name: concat"
     ]
    }
   ],
   "source": [
    "play.call(tf.convert_to_tensor([c4.grid.astype('float32')]))"
   ]
  },
  {
   "cell_type": "code",
   "execution_count": 27,
   "id": "579e0465",
   "metadata": {},
   "outputs": [
    {
     "data": {
      "image/png": "[encoded data removed]",
      "text/plain": [
       "<Figure size 432x504 with 1 Axes>"
      ]
     },
     "metadata": {},
     "output_type": "display_data"
    }
   ],
   "source": [
    "player = Player()\n",
    "c4 = connect4.ConnectFour()\n",
    "c4.show()"
   ]
  },
  {
   "cell_type": "code",
   "execution_count": 12,
   "id": "6dc470b3",
   "metadata": {},
   "outputs": [
    {
     "data": {
      "text/plain": [
       "True"
      ]
     },
     "execution_count": 12,
     "metadata": {},
     "output_type": "execute_result"
    }
   ],
   "source": [
    "c4.play(player.decide_random())"
   ]
  },
  {
   "cell_type": "code",
   "execution_count": 13,
   "id": "f98f68b3",
   "metadata": {
    "scrolled": true
   },
   "outputs": [
    {
     "data": {
      "image/png": "[encoded data removed]",
      "text/plain": [
       "<Figure size 432x504 with 1 Axes>"
      ]
     },
     "metadata": {},
     "output_type": "display_data"
    }
   ],
   "source": [
    "c4.show()"
   ]
  },
  {
   "cell_type": "code",
   "execution_count": 26,
   "id": "3fdde170",
   "metadata": {
    "scrolled": true
   },
   "outputs": [
    {
     "name": "stdout",
     "output_type": "stream",
     "text": [
      "Player -1 wins in 26 turns.\n"
     ]
    },
    {
     "data": {
      "image/png": "[encoded data removed]",
      "text/plain": [
       "<Figure size 432x504 with 1 Axes>"
      ]
     },
     "metadata": {},
     "output_type": "display_data"
    }
   ],
   "source": [
    "#pit two players against each other\n",
    "player1 = Player(name='Bea', random_seed=202233)\n",
    "player2 = Player(name='Chance', random_seed=2025341234542)\n",
    "c4 = connect4.ConnectFour()\n",
    "\n",
    "players = [player1, player2]\n",
    "current_player = 0\n",
    "board_changed = False\n",
    "while not c4.done:\n",
    "    board_changed = c4.play(players[current_player].decide_random())\n",
    "    if board_changed:\n",
    "        current_player = not current_player\n",
    "        \n",
    "        \n",
    "c4.show()"
   ]
  },
  {
   "cell_type": "markdown",
   "id": "98e7aa16",
   "metadata": {},
   "source": [
    "Training\n",
    "---"
   ]
  },
  {
   "cell_type": "code",
   "execution_count": null,
   "id": "97170c67",
   "metadata": {},
   "outputs": [],
   "source": []
  }
 ],
 "metadata": {
  "kernelspec": {
   "display_name": "Python 3 (ipykernel)",
   "language": "python",
   "name": "python3"
  },
  "language_info": {
   "codemirror_mode": {
    "name": "ipython",
    "version": 3
   },
   "file_extension": ".py",
   "mimetype": "text/x-python",
   "name": "python",
   "nbconvert_exporter": "python",
   "pygments_lexer": "ipython3",
   "version": "3.9.7"
  }
 },
 "nbformat": 4,
 "nbformat_minor": 5
}
