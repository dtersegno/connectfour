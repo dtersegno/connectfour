{
 "cells": [
  {
   "cell_type": "markdown",
   "id": "5ba6d319",
   "metadata": {},
   "source": [
    "connect 4\n",
    "---\n",
    "\n",
    "\n",
    "to do\n",
    "- finish diagonal win checkers using np.diagonal / np.diag\n",
    "- finish all-board win check\n",
    "- finish win behavior"
   ]
  },
  {
   "cell_type": "code",
   "execution_count": 1,
   "id": "41e322d9",
   "metadata": {},
   "outputs": [],
   "source": [
    "import os\n",
    "import numpy as np\n",
    "import tensorflow as tf\n",
    "import keras\n",
    "import matplotlib.pyplot as plt\n",
    "plt.style.use(\"dark_background\")"
   ]
  },
  {
   "cell_type": "code",
   "execution_count": 174,
   "id": "eb4171d1",
   "metadata": {},
   "outputs": [],
   "source": [
    "class GameBoard:\n",
    "    def __init__(self, board_shape = (6,7)):\n",
    "        self.shape = board_shape\n",
    "        self.grid = np.full(board_shape, 0)\n",
    "        black = (0.2,0.2,0.2)\n",
    "        red = (0.9, 0.3,0.3)\n",
    "        blue = (0.3,0.3,0.9)\n",
    "        self.colors = {\n",
    "            0:black,\n",
    "            1:red,\n",
    "            -1:blue\n",
    "        }\n",
    "        \n",
    "    def drop(self, color, column):\n",
    "        #check if the column is full first\n",
    "        if self.grid[0,column] != 0:\n",
    "            print(f'Cannot drop a {color} in full column {column}!')\n",
    "            return self.grid\n",
    "        else:\n",
    "            dropping = True\n",
    "            current_row = 0\n",
    "            \n",
    "            #drop the color until the spot below is filled\n",
    "            while dropping:\n",
    "                #if it hits the bottom, stop falling\n",
    "                if current_row == self.shape[0]-1:\n",
    "                    dropping = False\n",
    "                #if the next row is empty, drop to it\n",
    "                elif self.grid[current_row + 1, column] == 0:\n",
    "                    current_row += 1\n",
    "                else:\n",
    "                    dropping = False\n",
    "                    \n",
    "            #assign the color to the spot in the grid\n",
    "            self.grid[current_row, column] = color\n",
    "            return self.grid\n",
    "    \n",
    "    #converts the grid to plottable colors\n",
    "    def grid_to_color(self, color_dict_in = None):\n",
    "        if color_dict_in == None:\n",
    "            color_dict = self.colors\n",
    "        else:\n",
    "            color_dict = color_dict_in\n",
    "        color_grid = self.grid\n",
    "        color_grid = [\n",
    "            [\n",
    "                color_dict[value]\n",
    "                for value in row\n",
    "            ]\n",
    "            for row in color_grid\n",
    "        ]\n",
    "        color_grid = np.array(color_grid)\n",
    "        return color_grid\n",
    "    \n",
    "    #shows the grid with plt.imshow\n",
    "    def show(self, figsize = (6,7), colors = None):\n",
    "#         if colors == None:\n",
    "#             color_dict\n",
    "        fig, ax = plt.subplots(figsize = figsize)\n",
    "        grid_pic = self.grid_to_color()\n",
    "        plt.imshow(grid_pic)\n",
    "        ax.set_xticks(np.arange(-.5, 7, 1))\n",
    "        ax.set_yticks(np.arange(-.5, 6, 1))\n",
    "        plt.grid(True)\n",
    "                    "
   ]
  },
  {
   "cell_type": "code",
   "execution_count": 142,
   "id": "74239005",
   "metadata": {},
   "outputs": [
    {
     "data": {
      "text/plain": [
       "array([[ 0,  0,  0,  0,  0,  0,  0],\n",
       "       [ 0,  0,  0,  0,  0,  0,  0],\n",
       "       [ 0,  0,  0,  0,  0,  0,  0],\n",
       "       [ 0,  0,  0,  0,  0,  0,  1],\n",
       "       [ 0,  0,  0,  0,  0,  0, -1],\n",
       "       [ 0,  0,  0,  0, -1,  1,  1]])"
      ]
     },
     "execution_count": 142,
     "metadata": {},
     "output_type": "execute_result"
    }
   ],
   "source": [
    "board = GameBoard()\n",
    "board.drop(1,5)\n",
    "board.drop(-1,4)\n",
    "board.drop(1,6)\n",
    "board.drop(-1,6)\n",
    "board.drop(1,6)"
   ]
  },
  {
   "cell_type": "code",
   "execution_count": 143,
   "id": "28ee63e6",
   "metadata": {},
   "outputs": [
    {
     "data": {
      "image/png": "[encoded data removed]",
      "text/plain": [
       "<Figure size 432x504 with 1 Axes>"
      ]
     },
     "metadata": {},
     "output_type": "display_data"
    }
   ],
   "source": [
    "board.show()"
   ]
  },
  {
   "cell_type": "code",
   "execution_count": 240,
   "id": "509fb984",
   "metadata": {},
   "outputs": [],
   "source": [
    "# make a game\n",
    "\n",
    "class ConnectFour(GameBoard):\n",
    "    def __init__(self, starting_player = 1, second_player = -1, board_shape = (6,7)):\n",
    "        super().__init__(board_shape)\n",
    "        self.current_player = 0\n",
    "        self.players = [starting_player, second_player]\n",
    "        self.turns = 0\n",
    "        self.winner = None\n",
    "        self.done = False\n",
    "        \n",
    "    def reset(self):\n",
    "        self.grid = np.full(self.shape, 0)\n",
    "        self.turns = 0\n",
    "        self.winner = None\n",
    "        self.done = False\n",
    "          \n",
    "    #checks a single row\n",
    "    def four_in_row(self, row):\n",
    "        for window in range(self.shape[1]-4):\n",
    "            if abs(self.grid[row, window:window+4].sum()) == 4:\n",
    "                return True\n",
    "        return False\n",
    "    \n",
    "    #checks a single column\n",
    "    def four_in_col(self, col):\n",
    "        for window in range(self.shape[0]-4):\n",
    "            if abs(self.grid[window:window+4, col].sum()) == 4:\n",
    "                return True\n",
    "        return False\n",
    "    \n",
    "    #############\n",
    "    #\n",
    "    ######\n",
    "    \n",
    "    \n",
    "    def four_in_maj_diag(self, diag):\n",
    "        #scan major diagonals drawn from upper left across\n",
    "        for window in range(max(self.shape)):\n",
    "            \n",
    "            \n",
    "    \n",
    "    def four_in_min_diag(self, diag):\n",
    "        pass\n",
    "    \n",
    "    \n",
    "    #drop the color of the current player and deal with the consequences\n",
    "    \n",
    "    def play(self, column):\n",
    "        self.drop(self.players[self.current_player], column)\n",
    "        \n",
    "        ##check if state is win\n",
    "        self.check_win\n",
    "        \n",
    "    def check_win(self):\n",
    "        if self.done:\n",
    "            self.winner = self.players[current_player]\n",
    "            print(f'{self.winner} wins')\n",
    "        else:\n",
    "            self.current_player = (self.current_player+1)%2"
   ]
  },
  {
   "cell_type": "code",
   "execution_count": 251,
   "id": "554be756",
   "metadata": {
    "scrolled": false
   },
   "outputs": [
    {
     "data": {
      "image/png": "[encoded data removed]",
      "text/plain": [
       "<Figure size 432x504 with 1 Axes>"
      ]
     },
     "metadata": {},
     "output_type": "display_data"
    }
   ],
   "source": [
    "c4.show()"
   ]
  },
  {
   "cell_type": "code",
   "execution_count": 250,
   "id": "3b37f126",
   "metadata": {
    "scrolled": true
   },
   "outputs": [
    {
     "data": {
      "text/plain": [
       "array([0, 0, 0])"
      ]
     },
     "execution_count": 250,
     "metadata": {},
     "output_type": "execute_result"
    }
   ],
   "source": [
    "np.diag(c4.grid, 4)"
   ]
  },
  {
   "cell_type": "code",
   "execution_count": 241,
   "id": "9b1525ed",
   "metadata": {},
   "outputs": [],
   "source": [
    "c4 = ConnectFour()"
   ]
  },
  {
   "cell_type": "code",
   "execution_count": 242,
   "id": "e38c43b2",
   "metadata": {},
   "outputs": [
    {
     "data": {
      "text/plain": [
       "<__main__.ConnectFour at 0x1bf88700820>"
      ]
     },
     "execution_count": 242,
     "metadata": {},
     "output_type": "execute_result"
    }
   ],
   "source": [
    "c4"
   ]
  },
  {
   "cell_type": "code",
   "execution_count": 263,
   "id": "a491edea",
   "metadata": {
    "scrolled": true
   },
   "outputs": [
    {
     "data": {
      "image/png": "[encoded data removed]",
      "text/plain": [
       "<Figure size 432x504 with 1 Axes>"
      ]
     },
     "metadata": {},
     "output_type": "display_data"
    }
   ],
   "source": [
    "c4.play(2)\n",
    "c4.show()"
   ]
  },
  {
   "cell_type": "code",
   "execution_count": 277,
   "id": "18cb396a",
   "metadata": {
    "scrolled": true
   },
   "outputs": [
    {
     "data": {
      "text/plain": [
       "array([[ 0,  0,  0,  0,  0,  0,  0],\n",
       "       [ 0,  0,  0,  0,  0,  0,  0],\n",
       "       [ 0,  0,  0,  0,  0,  0,  0],\n",
       "       [ 0,  0,  0,  0,  0,  0,  1],\n",
       "       [-1,  0,  0, -1, -1,  0, -1],\n",
       "       [ 1,  0, -1,  1,  1,  0,  1]])"
      ]
     },
     "execution_count": 277,
     "metadata": {},
     "output_type": "execute_result"
    }
   ],
   "source": [
    "np.fliplr(c4.grid)"
   ]
  },
  {
   "cell_type": "code",
   "execution_count": 260,
   "id": "596a8aab",
   "metadata": {},
   "outputs": [
    {
     "data": {
      "text/plain": [
       "False"
      ]
     },
     "execution_count": 260,
     "metadata": {},
     "output_type": "execute_result"
    }
   ],
   "source": [
    "c4.four_in_row(5)"
   ]
  },
  {
   "cell_type": "code",
   "execution_count": 215,
   "id": "1ae69dfc",
   "metadata": {},
   "outputs": [
    {
     "data": {
      "text/plain": [
       "array([[0, 0],\n",
       "       [0, 0],\n",
       "       [0, 0],\n",
       "       [0, 0],\n",
       "       [0, 0],\n",
       "       [0, 0]])"
      ]
     },
     "execution_count": 215,
     "metadata": {},
     "output_type": "execute_result"
    }
   ],
   "source": [
    "c4.grid[:,5:]"
   ]
  },
  {
   "cell_type": "code",
   "execution_count": null,
   "id": "632d01a7",
   "metadata": {},
   "outputs": [],
   "source": []
  }
 ],
 "metadata": {
  "kernelspec": {
   "display_name": "Python 3 (ipykernel)",
   "language": "python",
   "name": "python3"
  },
  "language_info": {
   "codemirror_mode": {
    "name": "ipython",
    "version": 3
   },
   "file_extension": ".py",
   "mimetype": "text/x-python",
   "name": "python",
   "nbconvert_exporter": "python",
   "pygments_lexer": "ipython3",
   "version": "3.9.7"
  }
 },
 "nbformat": 4,
 "nbformat_minor": 5
}
