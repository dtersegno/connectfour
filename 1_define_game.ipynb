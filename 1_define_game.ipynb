{
 "cells": [
  {
   "cell_type": "markdown",
   "id": "5ba6d319",
   "metadata": {},
   "source": [
    "connect 4\n",
    "---"
   ]
  },
  {
   "cell_type": "code",
   "execution_count": 1,
   "id": "41e322d9",
   "metadata": {},
   "outputs": [],
   "source": [
    "import os\n",
    "import numpy as np\n",
    "import tensorflow as tf\n",
    "import keras\n",
    "import matplotlib.pyplot as plt\n",
    "plt.style.use(\"dark_background\")"
   ]
  },
  {
   "cell_type": "code",
   "execution_count": 134,
   "id": "eb4171d1",
   "metadata": {},
   "outputs": [],
   "source": [
    "class GameBoard:\n",
    "    def __init__(self, board_shape = (6,7)):\n",
    "        self.shape = board_shape\n",
    "        self.grid = np.full(board_shape, 0)\n",
    "        black = (0.2,0.2,0.2)\n",
    "        red = (0.9, 0.3,0.3)\n",
    "        blue = (0.3,0.3,0.9)\n",
    "        self.colors = {\n",
    "            0:black,\n",
    "            1:red,\n",
    "            -1:blue\n",
    "        }\n",
    "        \n",
    "    def drop(self, color, column):\n",
    "        #check if the column is full first\n",
    "        if self.grid[0,column] != 0:\n",
    "            print(f'Cannot drop a {color} in full column {column}!')\n",
    "            return self.grid\n",
    "        else:\n",
    "            dropping = True\n",
    "            current_row = 0\n",
    "            \n",
    "            #drop the color until the spot below is filled\n",
    "            while dropping:\n",
    "                #if it hits the bottom, stop falling\n",
    "                if current_row == self.shape[0]-1:\n",
    "                    dropping = False\n",
    "                #if the next row is empty, drop to it\n",
    "                elif self.grid[current_row + 1, column] == 0:\n",
    "                    current_row += 1\n",
    "                else:\n",
    "                    dropping = False\n",
    "                    \n",
    "            #assign the color to the spot in the grid\n",
    "            self.grid[current_row, column] = color\n",
    "            return self.grid\n",
    "    \n",
    "    #converts the grid to plottable colors\n",
    "    def grid_to_color(self, color_dict_in = None):\n",
    "        if color_dict_in == None:\n",
    "            color_dict = self.colors\n",
    "        else:\n",
    "            color_dict = color_dict_in\n",
    "        color_grid = self.grid\n",
    "        color_grid = [\n",
    "            [\n",
    "                color_dict[value]\n",
    "                for value in row\n",
    "            ]\n",
    "            for row in color_grid\n",
    "        ]\n",
    "        color_grid = np.array(color_grid)\n",
    "        return color_grid\n",
    "    \n",
    "    #shows the grid with plt.imshow\n",
    "    def show(self, figsize = (6,7), colors = None):\n",
    "#         if colors == None:\n",
    "#             color_dict\n",
    "        fig, ax = plt.subplots(figsize = figsize)\n",
    "        grid_pic = self.grid_to_color()\n",
    "        plt.imshow(grid_pic)\n",
    "#         ax.set_xticks(np.arange(-.5, 7, 1))\n",
    "#         ax.set_yticks(np.arange(-.5, 6, 1))\n",
    "        plt.grid(True)\n",
    "        plt.xticks(np.arange(-.5, 7, 1), labels = [])\n",
    "        plt.yticks(np.arange(-.5, 6, 1), labels = [])\n",
    "                    "
   ]
  },
  {
   "cell_type": "code",
   "execution_count": 129,
   "id": "74239005",
   "metadata": {
    "scrolled": true
   },
   "outputs": [
    {
     "data": {
      "text/plain": [
       "array([[ 0,  0,  0,  0,  0,  0,  0],\n",
       "       [ 0,  0,  0,  0,  0,  0,  0],\n",
       "       [ 0,  0,  0,  0,  0,  0,  0],\n",
       "       [ 0,  0,  0,  0,  0,  0,  1],\n",
       "       [ 0,  0,  0,  0,  0,  0, -1],\n",
       "       [ 0,  0,  0,  0, -1,  1,  1]])"
      ]
     },
     "execution_count": 129,
     "metadata": {},
     "output_type": "execute_result"
    }
   ],
   "source": [
    "board = GameBoard()\n",
    "board.drop(1,5)\n",
    "board.drop(-1,4)\n",
    "board.drop(1,6)\n",
    "board.drop(-1,6)\n",
    "board.drop(1,6)"
   ]
  },
  {
   "cell_type": "code",
   "execution_count": 130,
   "id": "28ee63e6",
   "metadata": {},
   "outputs": [
    {
     "data": {
      "image/png": "[encoded data removed]",
      "text/plain": [
       "<Figure size 432x504 with 1 Axes>"
      ]
     },
     "metadata": {},
     "output_type": "display_data"
    }
   ],
   "source": [
    "board.show()"
   ]
  },
  {
   "cell_type": "code",
   "execution_count": 164,
   "id": "509fb984",
   "metadata": {},
   "outputs": [],
   "source": [
    "# make a game\n",
    "\n",
    "class ConnectFour(GameBoard):\n",
    "    def __init__(self, starting_player = 1, second_player = -1, board_shape = (6,7)):\n",
    "        super().__init__(board_shape)\n",
    "        self.current_player = 0\n",
    "        self.players = [starting_player, second_player]\n",
    "        self.turns = 0\n",
    "        self.winning_turn = 0\n",
    "        self.winner = None\n",
    "        self.done = False\n",
    "        \n",
    "    def reset(self):\n",
    "        self.grid = np.full(self.shape, 0)\n",
    "        self.turns = 0\n",
    "        self.winner = None\n",
    "        self.done = False\n",
    "          \n",
    "    #checks a single row\n",
    "    def four_in_row(self, row):\n",
    "        for window in range(self.shape[1]-3):\n",
    "            if abs(self.grid[row, window:window+4].sum()) == 4:\n",
    "                return True\n",
    "        return False\n",
    "    \n",
    "    #checks a single column\n",
    "    def four_in_col(self, col):\n",
    "        for window in range(self.shape[0]-3):\n",
    "            if abs(self.grid[window:window+4, col].sum()) == 4:\n",
    "                return True\n",
    "        return False\n",
    "        \n",
    "    \n",
    "    #scan major diagonals drawn from upper left across\n",
    "    def four_in_diag(self, kth_diagonal, minor = False):\n",
    "        #optionally mirror the array to check /-tilted diagonals\n",
    "        if minor:\n",
    "            this_diagonal = np.diag(np.fliplr(self.grid), kth_diagonal)\n",
    "        else:\n",
    "            this_diagonal = np.diag(self.grid, kth_diagonal)\n",
    "        for window in range(len(this_diagonal)-3):\n",
    "            if abs(this_diagonal[window:window+4].sum()) == 4:\n",
    "                return True\n",
    "        return False\n",
    "    \n",
    "    #drop the color of the current player and deal with the consequences\n",
    "    def play(self, column, to_show = False):\n",
    "        self.turns += 1\n",
    "        self.drop(self.players[self.current_player], column)\n",
    "        \n",
    "        ##check if state is win\n",
    "        self.check_win()\n",
    "        self.current_player = (self.current_player+1)%2\n",
    "        if to_show:\n",
    "            self.show()\n",
    "\n",
    "        \n",
    "    def play_series(self, moves:list = [1,2,3,4,5,6,6,6,5], to_show = False):\n",
    "        for move in moves:\n",
    "            self.play(move)\n",
    "        if to_show:\n",
    "            self.show()\n",
    "        \n",
    "    def check_win(self):\n",
    "        if self.done:\n",
    "            print(f'The game already ended with {self.winner} winning in {self.winning_turn} turns.')\n",
    "        else:\n",
    "            row_checks = [\n",
    "                self.four_in_row(row)\n",
    "                for row in range(self.shape[0])\n",
    "            ]\n",
    "            col_checks = [\n",
    "                self.four_in_col(col)\n",
    "                for col in range(self.shape[1])\n",
    "            ]\n",
    "            diag_count = max(self.shape)-3\n",
    "            maj_diag_checks = [\n",
    "                self.four_in_diag(k)\n",
    "                for k in range(-diag_count, diag_count)\n",
    "            ]\n",
    "            min_diag_checks = [\n",
    "                self.four_in_diag(k, minor = True)\n",
    "                for k in range(-diag_count, diag_count)\n",
    "            ]\n",
    "            self.done = True in row_checks + col_checks + maj_diag_checks + min_diag_checks\n",
    "            if self.done:\n",
    "                self.winner = self.players[self.current_player]\n",
    "                self.winning_turn = self.turns\n",
    "                print(f'Player {self.winner} wins in {self.winning_turn} turns.')"
   ]
  },
  {
   "cell_type": "code",
   "execution_count": 165,
   "id": "9b1525ed",
   "metadata": {},
   "outputs": [],
   "source": [
    "c4 = ConnectFour()"
   ]
  },
  {
   "cell_type": "code",
   "execution_count": 166,
   "id": "9dfcec69",
   "metadata": {},
   "outputs": [
    {
     "data": {
      "image/png": "[encoded data removed]",
      "text/plain": [
       "<Figure size 432x504 with 1 Axes>"
      ]
     },
     "metadata": {},
     "output_type": "display_data"
    }
   ],
   "source": [
    "c4.show()"
   ]
  },
  {
   "cell_type": "code",
   "execution_count": 167,
   "id": "1b2de69f",
   "metadata": {},
   "outputs": [],
   "source": [
    "c4.reset()"
   ]
  },
  {
   "cell_type": "code",
   "execution_count": 175,
   "id": "a491edea",
   "metadata": {
    "scrolled": true
   },
   "outputs": [
    {
     "name": "stdout",
     "output_type": "stream",
     "text": [
      "Player 1 wins in 19 turns.\n",
      "The game already ended with 1 winning in 19 turns.\n"
     ]
    },
    {
     "data": {
      "image/png": "[encoded data removed]",
      "text/plain": [
       "<Figure size 432x504 with 1 Axes>"
      ]
     },
     "metadata": {},
     "output_type": "display_data"
    }
   ],
   "source": [
    "c4.play_series([2,2,3,2], True)"
   ]
  }
 ],
 "metadata": {
  "kernelspec": {
   "display_name": "Python 3 (ipykernel)",
   "language": "python",
   "name": "python3"
  },
  "language_info": {
   "codemirror_mode": {
    "name": "ipython",
    "version": 3
   },
   "file_extension": ".py",
   "mimetype": "text/x-python",
   "name": "python",
   "nbconvert_exporter": "python",
   "pygments_lexer": "ipython3",
   "version": "3.9.7"
  }
 },
 "nbformat": 4,
 "nbformat_minor": 5
}
