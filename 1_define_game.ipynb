{
 "cells": [
  {
   "cell_type": "markdown",
   "id": "1c7833af",
   "metadata": {},
   "source": [
    "connect 4\n",
    "---"
   ]
  },
  {
   "cell_type": "code",
   "execution_count": 1,
   "id": "ca1466fa",
   "metadata": {},
   "outputs": [],
   "source": [
    "import os\n",
    "import numpy as np\n",
    "import tensorflow as tf\n",
    "import keras\n",
    "import matplotlib.pyplot as plt\n",
    "plt.style.use(\"dark_background\")"
   ]
  },
  {
   "cell_type": "code",
   "execution_count": 141,
   "id": "617cbd00",
   "metadata": {},
   "outputs": [],
   "source": [
    "class GameBoard:\n",
    "    def __init__(self, board_shape = (6,7)):\n",
    "        self.shape = board_shape\n",
    "        self.grid = np.full(board_shape, 0)\n",
    "        black = (0.2,0.2,0.2)\n",
    "        red = (0.9, 0.3,0.3)\n",
    "        blue = (0.3,0.3,0.9)\n",
    "        self.colors = {\n",
    "            0:black,\n",
    "            1:red,\n",
    "            -1:blue\n",
    "        }\n",
    "        \n",
    "    def drop(self, color, column):\n",
    "        #check if the column is full\n",
    "        if self.grid[0,column] != 0:\n",
    "            print(f'Cannot drop a {color} in full column {column}!')\n",
    "            return self.grid\n",
    "        else:\n",
    "            dropping = True\n",
    "            current_row = 0\n",
    "            while dropping:\n",
    "                #if it hits the bottom, stop falling\n",
    "                if current_row == self.shape[0]-1:\n",
    "                    dropping = False\n",
    "                #if the next row is empty, drop to it\n",
    "                elif self.grid[current_row + 1, column] == 0:\n",
    "                    current_row += 1\n",
    "                else:\n",
    "                    dropping = False\n",
    "            self.grid[current_row, column] = color\n",
    "            return self.grid\n",
    "    \n",
    "    def grid_to_color(self, color_dict_in = None):\n",
    "        if color_dict_in == None:\n",
    "            color_dict = self.colors\n",
    "        else:\n",
    "            color_dict = color_dict_in\n",
    "        color_grid = self.grid\n",
    "        color_grid = [\n",
    "            [\n",
    "                color_dict[value]\n",
    "                for value in row\n",
    "            ]\n",
    "            for row in color_grid\n",
    "        ]\n",
    "        color_grid = np.array(color_grid)\n",
    "        return color_grid\n",
    "    \n",
    "    def show(self, figsize = (6,7), colors = None):\n",
    "#         if colors == None:\n",
    "#             color_dict\n",
    "        fig, ax = plt.subplots(figsize = figsize)\n",
    "        grid_pic = self.grid_to_color()\n",
    "        plt.imshow(grid_pic)\n",
    "        ax.set_xticks(np.arange(-.5, 7, 1))\n",
    "        ax.set_yticks(np.arange(-.5, 6, 1))\n",
    "        plt.grid(True)\n",
    "                    "
   ]
  },
  {
   "cell_type": "code",
   "execution_count": 142,
   "id": "05ce1fb5",
   "metadata": {},
   "outputs": [
    {
     "data": {
      "text/plain": [
       "array([[ 0,  0,  0,  0,  0,  0,  0],\n",
       "       [ 0,  0,  0,  0,  0,  0,  0],\n",
       "       [ 0,  0,  0,  0,  0,  0,  0],\n",
       "       [ 0,  0,  0,  0,  0,  0,  1],\n",
       "       [ 0,  0,  0,  0,  0,  0, -1],\n",
       "       [ 0,  0,  0,  0, -1,  1,  1]])"
      ]
     },
     "execution_count": 142,
     "metadata": {},
     "output_type": "execute_result"
    }
   ],
   "source": [
    "board = GameBoard()\n",
    "board.drop(1,5)\n",
    "board.drop(-1,4)\n",
    "board.drop(1,6)\n",
    "board.drop(-1,6)\n",
    "board.drop(1,6)"
   ]
  },
  {
   "cell_type": "code",
   "execution_count": 143,
   "id": "ee1168cd",
   "metadata": {},
   "outputs": [
    {
     "data": {
      "image/png": "[encoded data removed]",
      "text/plain": [
       "<Figure size 432x504 with 1 Axes>"
      ]
     },
     "metadata": {},
     "output_type": "display_data"
    }
   ],
   "source": [
    "board.show()"
   ]
  },
  {
   "cell_type": "code",
   "execution_count": null,
   "id": "798d1e48",
   "metadata": {},
   "outputs": [],
   "source": []
  }
 ],
 "metadata": {
  "kernelspec": {
   "display_name": "Python 3 (ipykernel)",
   "language": "python",
   "name": "python3"
  },
  "language_info": {
   "codemirror_mode": {
    "name": "ipython",
    "version": 3
   },
   "file_extension": ".py",
   "mimetype": "text/x-python",
   "name": "python",
   "nbconvert_exporter": "python",
   "pygments_lexer": "ipython3",
   "version": "3.9.7"
  }
 },
 "nbformat": 4,
 "nbformat_minor": 5
}
