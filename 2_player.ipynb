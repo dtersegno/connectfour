{
 "cells": [
  {
   "cell_type": "markdown",
   "id": "f30280ca",
   "metadata": {},
   "source": [
    "Game player\n",
    "---"
   ]
  },
  {
   "cell_type": "code",
   "execution_count": 3,
   "id": "33bb8bea",
   "metadata": {},
   "outputs": [],
   "source": [
    "import tensorflow as tf\n",
    "import keras\n",
    "import numpy as np\n",
    "import matplotlib.pyplot as plt\n",
    "plt.style.use('dark_background')\n",
    "# import connect4"
   ]
  },
  {
   "cell_type": "markdown",
   "id": "9692fb76",
   "metadata": {},
   "source": [
    "Game board, players classes"
   ]
  },
  {
   "cell_type": "code",
   "execution_count": 200,
   "id": "c9401a96",
   "metadata": {},
   "outputs": [],
   "source": [
    "class GameBoard:\n",
    "    def __init__(self, board_shape = (6,7), verbose = True):\n",
    "        self.verbose = verbose\n",
    "        self.shape = board_shape\n",
    "        self.grid = np.full(board_shape, 0, ).astype('float32')\n",
    "        black = (0.2,0.2,0.2)\n",
    "        red = (0.9, 0.3,0.3)\n",
    "        blue = (0.3,0.3,0.9)\n",
    "        self.colors = {\n",
    "            0:black,\n",
    "            1:red,\n",
    "            -1:blue\n",
    "        }\n",
    "        \n",
    "    #drop the specified element into the specified column, and return True. Returns False if the column is full and makes no changes.\n",
    "    def drop(self, color, column):\n",
    "        #check if the column is full first\n",
    "        if self.grid[0,column] != 0:\n",
    "            if self.verbose:\n",
    "                print(f'Cannot drop a {color} in full column {column}!')\n",
    "            return False\n",
    "        else:\n",
    "            dropping = True\n",
    "            current_row = 0\n",
    "            \n",
    "            #drop the color until the spot below is filled\n",
    "            while dropping:\n",
    "                #if it hits the bottom, stop falling\n",
    "                if current_row == self.shape[0]-1:\n",
    "                    dropping = False\n",
    "                #if the next row is empty, drop to it\n",
    "                elif self.grid[current_row + 1, column] == 0:\n",
    "                    current_row += 1\n",
    "                else:\n",
    "                    dropping = False\n",
    "                    \n",
    "            #assign the color to the spot in the grid\n",
    "            self.grid[current_row, column] = color\n",
    "            return True\n",
    "    \n",
    "    #converts the grid to plottable colors\n",
    "    def grid_to_color(self, color_dict_in = None):\n",
    "        if color_dict_in == None:\n",
    "            color_dict = self.colors\n",
    "        else:\n",
    "            color_dict = color_dict_in\n",
    "        color_grid = self.grid\n",
    "        color_grid = [\n",
    "            [\n",
    "                color_dict[value]\n",
    "                for value in row\n",
    "            ]\n",
    "            for row in color_grid\n",
    "        ]\n",
    "        color_grid = np.array(color_grid)\n",
    "        return color_grid\n",
    "    \n",
    "    #shows the grid with plt.imshow\n",
    "    def show(self, figsize = (6,7), colors = None):\n",
    "#         if colors == None:\n",
    "#             color_dict\n",
    "        fig, ax = plt.subplots(figsize = figsize)\n",
    "        grid_pic = self.grid_to_color()\n",
    "        plt.imshow(grid_pic)\n",
    "#         ax.set_xticks(np.arange(-.5, 7, 1))\n",
    "#         ax.set_yticks(np.arange(-.5, 6, 1))\n",
    "        plt.grid(True)\n",
    "        plt.xticks(np.arange(-.5, 7, 1), labels = range(1,9))\n",
    "        plt.yticks(np.arange(-.5, 6, 1), labels = [])\n",
    "\n",
    "\n",
    "\n",
    "class ConnectFour(GameBoard):\n",
    "    def __init__(self, starting_player = 1, second_player = -1, board_shape = (6,7), verbose = True):\n",
    "        super().__init__(board_shape, verbose)\n",
    "        self.verbose = verbose\n",
    "        self.current_player = 0\n",
    "        self.players = [starting_player, second_player]\n",
    "        self.turns = 0\n",
    "        self.winning_turn = 0\n",
    "        self.winner = None\n",
    "        self.done = False\n",
    "        self.last_play = None\n",
    "        self.history = []\n",
    "        self.scores = [0,0] #scores for player 0 and player 1\n",
    "        \n",
    "    def reset(self):\n",
    "        self.grid = np.full(self.shape, 0)\n",
    "        self.turns = 0\n",
    "        self.winner = None\n",
    "        self.done = False\n",
    "          \n",
    "    #checks a single row\n",
    "    def four_in_row(self, row):\n",
    "        for window in range(self.shape[1]-3):\n",
    "            if abs(self.grid[row, window:window+4].sum()) == 4:\n",
    "                return True\n",
    "        return False\n",
    "    \n",
    "    #checks a single column\n",
    "    def four_in_col(self, col):\n",
    "        for window in range(self.shape[0]-3):\n",
    "            if abs(self.grid[window:window+4, col].sum()) == 4:\n",
    "                return True\n",
    "        return False\n",
    "        \n",
    "    \n",
    "    #scan major diagonals drawn from upper left across\n",
    "    def four_in_diag(self, kth_diagonal, minor = False):\n",
    "        #optionally mirror the array to check /-tilted diagonals\n",
    "        if minor:\n",
    "            this_diagonal = np.diag(np.fliplr(self.grid), kth_diagonal)\n",
    "        else:\n",
    "            this_diagonal = np.diag(self.grid, kth_diagonal)\n",
    "        for window in range(len(this_diagonal)-3):\n",
    "            if abs(this_diagonal[window:window+4].sum()) == 4:\n",
    "                return True\n",
    "        return False\n",
    "    \n",
    "    #drop the color of the current player and deal with the consequences\n",
    "    def play(self, column, to_show = False):\n",
    "        self.turns += 1\n",
    "        drop_successful = self.drop(self.players[self.current_player], column)\n",
    "        \n",
    "        if drop_successful:\n",
    "            self.last_play = [self.players[self.current_player], 'drop', column]\n",
    "            ##check if state is win\n",
    "            self.check_win()\n",
    "            self.current_player = (self.current_player+1)%2\n",
    "        else:\n",
    "            self.last_play = [self.players[self.current_player], 'attempt', column]\n",
    "        if to_show:\n",
    "            self.show()\n",
    "        self.history.append(self.last_play)\n",
    "        return drop_successful\n",
    "        \n",
    "    #checks how many of 'value' are occupied in cells adjacent to grid[row,col]\n",
    "    def count_adjacent(self, row, col, value):\n",
    "        #check if center cell is on the edge of the grid\n",
    "        top = row == 0\n",
    "        bottom = row == self.grid.shape[0]-1\n",
    "        left = col == 0\n",
    "        right = col == self.grid.shape[1]-1\n",
    "        \n",
    "        #row indices\n",
    "        upper_index = row - 1\n",
    "        lower_index = row + 1\n",
    "        if bottom:\n",
    "            lower_index = row\n",
    "        elif top:\n",
    "            upper_index = row #or just upper_index == 0\n",
    "        \n",
    "        #column indices\n",
    "        left_index = col - 1\n",
    "        right_index = col + 1\n",
    "        if left:\n",
    "            left_index = col\n",
    "        elif right:\n",
    "            right_index = col\n",
    "            \n",
    "        #get slice\n",
    "        gridslice = self.grid[upper_index:lower_index+1, left_index:right_index + 1]\n",
    "        gridtruths = gridslice == value\n",
    "        adjacent_count = gridtruths.sum() - (self.grid[row,col] == value) #subtract 1 to not count the center value, if it is the same\n",
    "        return adjacent_count\n",
    "        \n",
    "        \n",
    "        \n",
    "    def play_series(self, moves:list = [1,2,3,4,5,6,6,6,5], to_show = False):\n",
    "        for move in moves:\n",
    "            self.play(move)\n",
    "        if to_show:\n",
    "            self.show()\n",
    "\n",
    "    \n",
    "    def check_win(self):\n",
    "        if self.done and self.verbose:\n",
    "            print(f'The game already ended with {self.winner} winning in {self.winning_turn} turns.')\n",
    "        else:\n",
    "            row_checks = [\n",
    "                self.four_in_row(row)\n",
    "                for row in range(self.shape[0])\n",
    "            ]\n",
    "            col_checks = [\n",
    "                self.four_in_col(col)\n",
    "                for col in range(self.shape[1])\n",
    "            ]\n",
    "            diag_count = max(self.shape)-3\n",
    "            maj_diag_checks = [\n",
    "                self.four_in_diag(k)\n",
    "                for k in range(-diag_count, diag_count)\n",
    "            ]\n",
    "            min_diag_checks = [\n",
    "                self.four_in_diag(k, minor = True)\n",
    "                for k in range(-diag_count, diag_count)\n",
    "            ]\n",
    "            self.done = True in row_checks + col_checks + maj_diag_checks + min_diag_checks\n",
    "            if self.done:\n",
    "                self.winner = self.players[self.current_player]\n",
    "                self.winning_turn = self.turns\n",
    "                if self.verbose:\n",
    "                    print(f'Player {self.winner} wins in {self.winning_turn} turns.')\n",
    "        return self.done"
   ]
  },
  {
   "cell_type": "markdown",
   "id": "8889a043",
   "metadata": {},
   "source": [
    "Player classes"
   ]
  },
  {
   "cell_type": "code",
   "execution_count": 201,
   "id": "389a6d92",
   "metadata": {},
   "outputs": [],
   "source": [
    "class Player:\n",
    "    def __init__(self, name = 'Anders', num_actions = 7, random_seed = 2022):\n",
    "        self.name = name\n",
    "        self.num_actions = num_actions\n",
    "        self.rng = np.random.default_rng(random_seed)\n",
    "        \n",
    "    def decide_random(self):\n",
    "        decision = self.rng.choice(self.num_actions)\n",
    "        return decision\n",
    "\n",
    "# class C4Model(keras.models.Model):\n",
    "#     def __init__(self, num_actions = 7, hidden_size = 1080)\n",
    "\n",
    "class PlayerAC(Player):\n",
    "    def __init__(self, name = 'Anders', num_actions = 7, hidden_size = 1080, random_seed = 2022):\n",
    "        super().__init__(name, num_actions, random_seed)\n",
    "        self.input_layer = tf.keras.Input(shape = (6,7), name = 'input layer')\n",
    "        self.convolution_h = tf.keras.layers.Conv2D(8,\n",
    "                                                    (1,4),\n",
    "                                                    activation='relu',\n",
    "                                                    input_shape = (6,7),\n",
    "                                                    name = 'horizontal convolution',\n",
    "                                                    padding = 'same'\n",
    "                                                   )\n",
    "        self.convolution_v = tf.keras.layers.Conv2D(2,\n",
    "                                                    (5,1),\n",
    "                                                    activation='relu',\n",
    "                                                    input_shape = (6,7),\n",
    "                                                    name = 'vertical convolution',\n",
    "                                                    padding = 'same'\n",
    "                                                   )\n",
    "        self.convolution_square = tf.keras.layers.Conv2D(8,\n",
    "                                                         (4,4),\n",
    "                                                         activation='relu',\n",
    "                                                         input_shape = (6,7),\n",
    "                                                         name = 'square convolution',\n",
    "                                                         padding = 'same'\n",
    "                                                        )\n",
    "        self.common1 = tf.keras.layers.Dense(hidden_size,\n",
    "                                             activation = 'relu',\n",
    "                                            name = 'common 1')\n",
    "        self.actor = tf.keras.layers.Dense(num_actions,\n",
    "                                    activation = 'softmax',\n",
    "                                    name = 'actor'\n",
    "                                 )\n",
    "        self.critic = tf.keras.layers.Dense(1,\n",
    "                                           activation = 'linear',\n",
    "                                           name = 'critic')\n",
    "        \n",
    "        \n",
    "    def simple_call(self, this_input):\n",
    "        inputs = tf.expand_dims(this_input,0)\n",
    "        x = self.common1(inputs)\n",
    "        action_probs = self.actor(x)\n",
    "        critic_value = self.critic(x)\n",
    "        return tf.squeeze(action_probs), tf.squeeze(critic_value)\n",
    "        \n",
    "#give it a call\n",
    "    def call(self, this_input, player_color):\n",
    "        inputs = tf.expand_dims(this_input,3)\n",
    "#         inx = self.input_layer(inputs)\n",
    "        hx = self.convolution_h(inputs)\n",
    "#         hx = tf.squeeze(hx)\n",
    "        vx = self.convolution_v(inputs)\n",
    "#         vx = tf.squeeze(vx)\n",
    "        sqx = self.convolution_square(inputs)\n",
    "#         sqx = tf.squeeze(sqx)\n",
    "#         return hx, vx, sqx, tf.squeeze(inputs)\n",
    "        x = keras.layers.concatenate([hx,vx,sqx,inputs])\n",
    "        x = tf.reshape(x, shape=[1,-1])\n",
    "        x = keras.layers.concatenate([x, tf.convert_to_tensor([[player_color]])])\n",
    "        x = self.common1(x)\n",
    "        actor_out, critic_out = tf.squeeze(self.actor(x)), tf.squeeze(self.critic(x))\n",
    "        return actor_out, critic_out"
   ]
  },
  {
   "cell_type": "code",
   "execution_count": 202,
   "id": "4bf7fe84",
   "metadata": {},
   "outputs": [],
   "source": [
    "c4 = ConnectFour()"
   ]
  },
  {
   "cell_type": "code",
   "execution_count": 118,
   "id": "0159bc1f",
   "metadata": {
    "scrolled": true
   },
   "outputs": [
    {
     "data": {
      "text/plain": [
       "array([[0., 0., 0., 0., 0., 0., 0.],\n",
       "       [0., 0., 0., 0., 0., 0., 0.],\n",
       "       [0., 0., 0., 0., 0., 0., 0.],\n",
       "       [0., 0., 0., 0., 0., 0., 0.],\n",
       "       [0., 0., 0., 0., 0., 0., 0.],\n",
       "       [0., 0., 0., 0., 0., 0., 0.]], dtype=float32)"
      ]
     },
     "execution_count": 118,
     "metadata": {},
     "output_type": "execute_result"
    }
   ],
   "source": [
    "c4.grid.astype('float32')"
   ]
  },
  {
   "cell_type": "code",
   "execution_count": 119,
   "id": "9334d61a",
   "metadata": {},
   "outputs": [
    {
     "data": {
      "text/plain": [
       "3"
      ]
     },
     "execution_count": 119,
     "metadata": {},
     "output_type": "execute_result"
    }
   ],
   "source": [
    "c4.count_adjacent(0,0,0)"
   ]
  },
  {
   "cell_type": "code",
   "execution_count": 80,
   "id": "5384cc0b",
   "metadata": {
    "scrolled": true
   },
   "outputs": [
    {
     "data": {
      "text/plain": [
       "8"
      ]
     },
     "execution_count": 80,
     "metadata": {},
     "output_type": "execute_result"
    }
   ],
   "source": [
    "c4.count_adjacent(1,3,0)"
   ]
  },
  {
   "cell_type": "code",
   "execution_count": 81,
   "id": "9650b6fd",
   "metadata": {},
   "outputs": [],
   "source": [
    "player = PlayerAC()"
   ]
  },
  {
   "cell_type": "code",
   "execution_count": 82,
   "id": "c0e7042a",
   "metadata": {
    "scrolled": true
   },
   "outputs": [
    {
     "data": {
      "text/plain": [
       "(<tf.Tensor: shape=(7,), dtype=float32, numpy=\n",
       " array([0.14285715, 0.14285715, 0.14285715, 0.14285715, 0.14285715,\n",
       "        0.14285715, 0.14285715], dtype=float32)>,\n",
       " <tf.Tensor: shape=(), dtype=float32, numpy=0.0>)"
      ]
     },
     "execution_count": 82,
     "metadata": {},
     "output_type": "execute_result"
    }
   ],
   "source": [
    "first_result = player.simple_call(tf.convert_to_tensor(c4.grid.reshape(6*7).astype('float32')))\n",
    "first_result"
   ]
  },
  {
   "cell_type": "markdown",
   "id": "2a635403",
   "metadata": {},
   "source": [
    "random game with two players\n",
    "---"
   ]
  },
  {
   "cell_type": "code",
   "execution_count": 65,
   "id": "d727a9c4",
   "metadata": {
    "scrolled": false
   },
   "outputs": [
    {
     "data": {
      "text/plain": [
       "0"
      ]
     },
     "execution_count": 65,
     "metadata": {},
     "output_type": "execute_result"
    }
   ],
   "source": [
    "np.argmax(first_result[0])"
   ]
  },
  {
   "cell_type": "code",
   "execution_count": 66,
   "id": "3fdde170",
   "metadata": {
    "scrolled": true
   },
   "outputs": [
    {
     "name": "stdout",
     "output_type": "stream",
     "text": [
      "Player -1 wins in 26 turns.\n"
     ]
    },
    {
     "data": {
      "image/png": "[encoded data removed]",
      "text/plain": [
       "<Figure size 432x504 with 1 Axes>"
      ]
     },
     "metadata": {},
     "output_type": "display_data"
    }
   ],
   "source": [
    "#pit two players against each other\n",
    "player1 = Player(name='Bea', random_seed=202233)\n",
    "player2 = Player(name='Chance', random_seed=2025341234542)\n",
    "c4 = ConnectFour()\n",
    "\n",
    "players = [player1, player2]\n",
    "current_player = 0\n",
    "board_changed = False\n",
    "while not c4.done:\n",
    "    board_changed = c4.play(players[current_player].decide_random())\n",
    "    if board_changed:\n",
    "        current_player = not current_player\n",
    "        \n",
    "        \n",
    "c4.show()"
   ]
  },
  {
   "cell_type": "markdown",
   "id": "e944cddc",
   "metadata": {},
   "source": [
    "Game with simple NN players\n",
    "---"
   ]
  },
  {
   "cell_type": "code",
   "execution_count": 67,
   "id": "d373286c",
   "metadata": {
    "scrolled": false
   },
   "outputs": [
    {
     "name": "stdout",
     "output_type": "stream",
     "text": [
      "Cannot drop a -1 in full column 1!\n",
      "Cannot drop a 1 in full column 1!\n",
      "Player 1 wins in 29 turns.\n"
     ]
    },
    {
     "data": {
      "image/png": "[encoded data removed]",
      "text/plain": [
       "<Figure size 432x504 with 1 Axes>"
      ]
     },
     "metadata": {},
     "output_type": "display_data"
    }
   ],
   "source": [
    "#pit two players against each other\n",
    "player1 = PlayerAC(name='Bea', hidden_size=2048, random_seed=2022)\n",
    "player2 = PlayerAC(name='Chance', hidden_size=1024, random_seed=2022)\n",
    "c4 = ConnectFour()\n",
    "\n",
    "rng_seed = 329454319\n",
    "\n",
    "rng = np.random.default_rng(rng_seed)\n",
    "\n",
    "players = [player1, player2]\n",
    "current_player = 0\n",
    "board_changed = False\n",
    "while not c4.done:\n",
    "    reshaped_grid = tf.convert_to_tensor(c4.grid.reshape(6*7).astype('float32'))\n",
    "    result = players[current_player].simple_call(reshaped_grid)\n",
    "    action_probs = tf.squeeze(result[0]).numpy()\n",
    "    player_call = rng.choice(7, p=action_probs)\n",
    "    board_changed = c4.play(player_call)\n",
    "    if board_changed:\n",
    "        current_player = not current_player\n",
    "        \n",
    "        \n",
    "c4.show()"
   ]
  },
  {
   "cell_type": "markdown",
   "id": "e2c33fe1",
   "metadata": {},
   "source": [
    "recursive training\n",
    "---"
   ]
  },
  {
   "cell_type": "code",
   "execution_count": 203,
   "id": "23e49808",
   "metadata": {},
   "outputs": [],
   "source": [
    "player = PlayerAC()"
   ]
  },
  {
   "cell_type": "code",
   "execution_count": 204,
   "id": "cdf3ac70",
   "metadata": {},
   "outputs": [
    {
     "data": {
      "text/plain": [
       "(<tf.Tensor: shape=(7,), dtype=float32, numpy=\n",
       " array([0.1445294 , 0.13481751, 0.14632662, 0.14376153, 0.14245507,\n",
       "        0.14606167, 0.14204822], dtype=float32)>,\n",
       " <tf.Tensor: shape=(), dtype=float32, numpy=0.017975368>)"
      ]
     },
     "execution_count": 204,
     "metadata": {},
     "output_type": "execute_result"
    }
   ],
   "source": [
    "player.call([c4.grid],1.)"
   ]
  },
  {
   "cell_type": "code",
   "execution_count": 205,
   "id": "5fc8bb20",
   "metadata": {},
   "outputs": [],
   "source": [
    "#large reward to the winning move\n",
    "reward_for_win = 50\n",
    "\n",
    "#reward for each adjacent same color to new placement\n",
    "reward_for_adjacent = 1\n",
    "\n",
    "#penalty for attempting to place within a filled column\n",
    "penalty_for_full = -1"
   ]
  },
  {
   "cell_type": "code",
   "execution_count": 206,
   "id": "650ffb9f",
   "metadata": {},
   "outputs": [],
   "source": [
    "rng_seed = 2022"
   ]
  },
  {
   "cell_type": "code",
   "execution_count": 207,
   "id": "06d7a6cc",
   "metadata": {},
   "outputs": [],
   "source": [
    "num_games = 10\n",
    "\n",
    "rng = np.random.default_rng(rng_seed)\n",
    "\n",
    "# learning_rate = tf.optimizers.schedules.ExponentialDecay(0.01,100,0.1)\n",
    "# optimizer = tf.optimizers.Adam(learning_rate = learning_rate)\n",
    "\n",
    "learning_rate = 0.01\n",
    "optimizer = tf.optimizers.Adam(learning_rate = learning_rate)\n",
    "\n",
    "huber = tf.losses.Huber()\n",
    "\n",
    "#only for long term rewards.\n",
    "gamma = 0.95\n",
    "\n",
    "#create master player to play with itself\n",
    "player = PlayerAC(hidden_size = 2048)\n",
    "\n",
    "#play\n",
    "for game in range(num_games):\n",
    "    \n",
    "    #set up rewards and results histories for a new game\n",
    "    rewards = []\n",
    "    actions = []\n",
    "    critic_values = []\n",
    "    action_probs = []\n",
    "    \n",
    "    #create new game\n",
    "    c4 = ConnectFour(verbose=False)\n",
    "    \n",
    "    #keep track of the player for use in c4.players[...]\n",
    "    # c4 also tracks it\n",
    "    current_player = 0\n",
    "    \n",
    "    #play the game until it says its done.\n",
    "    while not c4.done:\n",
    "        # call the player\n",
    "        player_color = tf.convert_to_tensor(c4.players[current_player], dtype='float32')\n",
    "        action_probs, critic_value = player.call([c4.grid],player_color)\n",
    "        action_probs = action_probs.numpy()\n",
    "        player_call = rng.choice(7, p=action_probs)\n",
    "        board_changed = c4.play(player_call)\n",
    "        if board_changed:\n",
    "            current_player = not current_player\n",
    "        #record reward\n",
    "        #record action\n",
    "        #record critic value\n",
    "    \n",
    "    #add all rewards\n",
    "    \n",
    "    #convert rewards to losses\n",
    "    \n",
    "    #get total loss\n",
    "    \n",
    "    #calculate gradients\n",
    "    \n",
    "    #apply gradients\n",
    "    "
   ]
  },
  {
   "cell_type": "code",
   "execution_count": null,
   "id": "8099c6a8",
   "metadata": {},
   "outputs": [],
   "source": []
  }
 ],
 "metadata": {
  "kernelspec": {
   "display_name": "Python 3 (ipykernel)",
   "language": "python",
   "name": "python3"
  },
  "language_info": {
   "codemirror_mode": {
    "name": "ipython",
    "version": 3
   },
   "file_extension": ".py",
   "mimetype": "text/x-python",
   "name": "python",
   "nbconvert_exporter": "python",
   "pygments_lexer": "ipython3",
   "version": "3.9.7"
  }
 },
 "nbformat": 4,
 "nbformat_minor": 5
}
