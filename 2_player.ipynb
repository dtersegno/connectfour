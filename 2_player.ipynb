{
 "cells": [
  {
   "cell_type": "markdown",
   "id": "f30280ca",
   "metadata": {},
   "source": [
    "Game player\n",
    "---"
   ]
  },
  {
   "cell_type": "code",
   "execution_count": 21,
   "id": "33bb8bea",
   "metadata": {},
   "outputs": [],
   "source": [
    "import tensorflow as tf\n",
    "import keras\n",
    "import numpy as np\n",
    "import matplotlib.pyplot as plt\n",
    "plt.style.use('dark_background')\n",
    "\n",
    "\n",
    "import importlib\n",
    "\n",
    "importlib.reload(connect4);\n"
   ]
  },
  {
   "cell_type": "code",
   "execution_count": 22,
   "id": "389a6d92",
   "metadata": {},
   "outputs": [],
   "source": [
    "class Player:\n",
    "    def __init__(self, name = 'Anders', num_actions = 7, random_seed = 2022):\n",
    "        self.name = name\n",
    "        self.num_actions = num_actions\n",
    "        self.rng = np.random.default_rng(random_seed)\n",
    "        \n",
    "    def decide_random(self):\n",
    "        decision = self.rng.choice(self.num_actions)\n",
    "        return decision\n",
    "\n",
    "# class C4Model(keras.models.Model):\n",
    "#     def __init__(self, num_actions = 7, hidden_size = 1080)\n",
    "\n",
    "class PlayerAC(Player):\n",
    "    def __init__(self, name = 'Anders', num_actions = 7, hidden_size = 1080, random_seed = 2022):\n",
    "        super().__init__(name, num_actions, random_seed)\n",
    "        self.input_layer = tf.keras.Input(shape = (6,7), name = 'input layer')\n",
    "        self.convolution_h = tf.keras.layers.Conv2D(8,\n",
    "                                                    (1,4),\n",
    "                                                    activation='relu',\n",
    "                                                    input_shape = (6,7),\n",
    "                                                    name = 'horizontal convolution',\n",
    "                                                    padding = 'same'\n",
    "                                                   )\n",
    "        self.convolution_v = tf.keras.layers.Conv2D(2,\n",
    "                                                    (5,1),\n",
    "                                                    activation='relu',\n",
    "                                                    input_shape = (6,7),\n",
    "                                                    name = 'vertical convolution',\n",
    "                                                    padding = 'same'\n",
    "                                                   )\n",
    "        self.convolution_square = tf.keras.layers.Conv2D(8,\n",
    "                                                         (4,4),\n",
    "                                                         activation='relu',\n",
    "                                                         input_shape = (6,7),\n",
    "                                                         name = 'square convolution',\n",
    "                                                         padding = 'valid'\n",
    "                                                        )\n",
    "        self.common1 = tf.keras.layers.Dense(hidden_size,\n",
    "                                             activation = 'relu',\n",
    "                                            name = 'common 1')\n",
    "        self.actor = tf.keras.layers.Dense(num_actions,\n",
    "                                    activation = 'softmax',\n",
    "                                    name = 'actor'\n",
    "                                 )\n",
    "        self.critic = tf.keras.layers.Dense(1,\n",
    "                                           activation = 'linear',\n",
    "                                           name = 'critic')\n",
    "        \n",
    "        \n",
    "    def simple_call(self, this_input):\n",
    "        inputs = tf.expand_dims(this_input,0)\n",
    "        x = self.common1(inputs)\n",
    "        action_probs = self.actor(x)\n",
    "        critic_value = self.critic(x)\n",
    "        return tf.squeeze(action_probs), tf.squeeze(critic_value)\n",
    "        \n",
    "#give it a \n",
    "    def call(self, this_input):\n",
    "        inputs = tf.expand_dims(this_input,0)\n",
    "#         inx = self.input_layer(inputs)\n",
    "        hx = self.convolution_h(inputs)\n",
    "#         hx = tf.squeeze(hx)\n",
    "        vx = self.convolution_v(inputs)\n",
    "#         vx = tf.squeeze(vx)\n",
    "        sqx = self.convolution_square(inputs)\n",
    "#         sqx = tf.squeeze(sqx)\n",
    "        return hx, vx, sqx, tf.squeeze(inputs)\n",
    "        x = self.common1(keras.layers.concatenate([hx,vx,sqx,tf.squeeze(inputs)]))\n",
    "        out = self.actor(x)\n",
    "        return hx, vx, sqx, x, out\n",
    "#         x = self.common1(tf.squeeze(hx,1))\n",
    "#         out = self.actor(x)\n",
    "#         return x\n",
    "        "
   ]
  },
  {
   "cell_type": "code",
   "execution_count": 23,
   "id": "4bf7fe84",
   "metadata": {},
   "outputs": [],
   "source": [
    "c4 = connect4.ConnectFour()"
   ]
  },
  {
   "cell_type": "code",
   "execution_count": 24,
   "id": "0159bc1f",
   "metadata": {
    "scrolled": true
   },
   "outputs": [
    {
     "data": {
      "text/plain": [
       "array([[0., 0., 0., 0., 0., 0., 0.],\n",
       "       [0., 0., 0., 0., 0., 0., 0.],\n",
       "       [0., 0., 0., 0., 0., 0., 0.],\n",
       "       [0., 0., 0., 0., 0., 0., 0.],\n",
       "       [0., 0., 0., 0., 0., 0., 0.],\n",
       "       [0., 0., 0., 0., 0., 0., 0.]], dtype=float32)"
      ]
     },
     "execution_count": 24,
     "metadata": {},
     "output_type": "execute_result"
    }
   ],
   "source": [
    "c4.grid.astype('float32')"
   ]
  },
  {
   "cell_type": "code",
   "execution_count": 25,
   "id": "9334d61a",
   "metadata": {},
   "outputs": [
    {
     "data": {
      "text/plain": [
       "3"
      ]
     },
     "execution_count": 25,
     "metadata": {},
     "output_type": "execute_result"
    }
   ],
   "source": [
    "c4.count_adjacent(0,0,0)"
   ]
  },
  {
   "cell_type": "code",
   "execution_count": null,
   "id": "397c33f4",
   "metadata": {},
   "outputs": [],
   "source": []
  },
  {
   "cell_type": "code",
   "execution_count": 26,
   "id": "5384cc0b",
   "metadata": {
    "scrolled": true
   },
   "outputs": [
    {
     "data": {
      "text/plain": [
       "8"
      ]
     },
     "execution_count": 26,
     "metadata": {},
     "output_type": "execute_result"
    }
   ],
   "source": [
    "c4.count_adjacent(1,3,0)"
   ]
  },
  {
   "cell_type": "code",
   "execution_count": 27,
   "id": "9650b6fd",
   "metadata": {},
   "outputs": [],
   "source": [
    "player = PlayerAC()"
   ]
  },
  {
   "cell_type": "code",
   "execution_count": 28,
   "id": "c0e7042a",
   "metadata": {
    "scrolled": true
   },
   "outputs": [
    {
     "data": {
      "text/plain": [
       "(<tf.Tensor: shape=(7,), dtype=float32, numpy=\n",
       " array([0.14285715, 0.14285715, 0.14285715, 0.14285715, 0.14285715,\n",
       "        0.14285715, 0.14285715], dtype=float32)>,\n",
       " <tf.Tensor: shape=(), dtype=float32, numpy=0.0>)"
      ]
     },
     "execution_count": 28,
     "metadata": {},
     "output_type": "execute_result"
    }
   ],
   "source": [
    "first_result = player.simple_call(tf.convert_to_tensor(c4.grid.reshape(6*7).astype('float32')))\n",
    "first_result"
   ]
  },
  {
   "cell_type": "markdown",
   "id": "2a635403",
   "metadata": {},
   "source": [
    "random game with two players\n",
    "---"
   ]
  },
  {
   "cell_type": "code",
   "execution_count": 29,
   "id": "d727a9c4",
   "metadata": {},
   "outputs": [
    {
     "data": {
      "text/plain": [
       "0"
      ]
     },
     "execution_count": 29,
     "metadata": {},
     "output_type": "execute_result"
    }
   ],
   "source": [
    "np.argmax(first_result[0])"
   ]
  },
  {
   "cell_type": "code",
   "execution_count": 30,
   "id": "3fdde170",
   "metadata": {
    "scrolled": true
   },
   "outputs": [
    {
     "name": "stdout",
     "output_type": "stream",
     "text": [
      "Player -1 wins in 26 turns.\n"
     ]
    },
    {
     "data": {
      "image/png": "[encoded data removed]",
      "text/plain": [
       "<Figure size 432x504 with 1 Axes>"
      ]
     },
     "metadata": {},
     "output_type": "display_data"
    }
   ],
   "source": [
    "#pit two players against each other\n",
    "player1 = Player(name='Bea', random_seed=202233)\n",
    "player2 = Player(name='Chance', random_seed=2025341234542)\n",
    "c4 = connect4.ConnectFour()\n",
    "\n",
    "players = [player1, player2]\n",
    "current_player = 0\n",
    "board_changed = False\n",
    "while not c4.done:\n",
    "    board_changed = c4.play(players[current_player].decide_random())\n",
    "    if board_changed:\n",
    "        current_player = not current_player\n",
    "        \n",
    "        \n",
    "c4.show()"
   ]
  },
  {
   "cell_type": "markdown",
   "id": "e944cddc",
   "metadata": {},
   "source": [
    "Game with simple NN players\n",
    "---"
   ]
  },
  {
   "cell_type": "code",
   "execution_count": 31,
   "id": "d373286c",
   "metadata": {
    "scrolled": true
   },
   "outputs": [
    {
     "name": "stdout",
     "output_type": "stream",
     "text": [
      "Player 1 wins in 25 turns.\n"
     ]
    },
    {
     "data": {
      "image/png": "[encoded data removed]",
      "text/plain": [
       "<Figure size 432x504 with 1 Axes>"
      ]
     },
     "metadata": {},
     "output_type": "display_data"
    }
   ],
   "source": [
    "#pit two players against each other\n",
    "player1 = PlayerAC(name='Bea', hidden_size=2048, random_seed=2022)\n",
    "player2 = PlayerAC(name='Chance', hidden_size=1024, random_seed=2022)\n",
    "c4 = connect4.ConnectFour()\n",
    "\n",
    "rng_seed = 329454319\n",
    "\n",
    "rng = np.random.default_rng(rng_seed)\n",
    "\n",
    "players = [player1, player2]\n",
    "current_player = 0\n",
    "board_changed = False\n",
    "while not c4.done:\n",
    "    reshaped_grid = tf.convert_to_tensor(c4.grid.reshape(6*7).astype('float32'))\n",
    "    result = players[current_player].simple_call(reshaped_grid)\n",
    "    action_probs = tf.squeeze(result[0]).numpy()\n",
    "    player_call = rng.choice(7, p=action_probs)\n",
    "    board_changed = c4.play(player_call)\n",
    "    if board_changed:\n",
    "        current_player = not current_player\n",
    "        \n",
    "        \n",
    "c4.show()"
   ]
  },
  {
   "cell_type": "markdown",
   "id": "e2c33fe1",
   "metadata": {},
   "source": [
    "recursive training\n",
    "---"
   ]
  },
  {
   "cell_type": "code",
   "execution_count": 36,
   "id": "634cb3e4",
   "metadata": {},
   "outputs": [],
   "source": [
    "reward_for_win = 50\n",
    "reward_for_adjacent = 1"
   ]
  },
  {
   "cell_type": "code",
   "execution_count": null,
   "id": "06d7a6cc",
   "metadata": {},
   "outputs": [],
   "source": [
    "num_games = 1000\n",
    "\n",
    "rng = np.random.default_rng(rng_seed)\n",
    "\n",
    "learning_rate = tf.optimizers.schedules.ExponentialDecay(0.01,100,0.1)\n",
    "optimizer = tf.optimizers.Adam(learning_rate = learning_rate)\n",
    "\n",
    "huber = tf.losses.Huber()\n",
    "\n",
    "gamma = 0.95\n",
    "\n",
    "#create master player to play with itself\n",
    "player = PlayerAC(hidden_size = 2048)\n",
    "\n",
    "#plaer\n",
    "for game in num_games:\n",
    "    \n",
    "    #set up rewards and results histories for a new game\n",
    "    rewards = []\n",
    "    actions = []\n",
    "    critic_values = []\n",
    "    action_probs = []\n",
    "    \n",
    "    #create new game\n",
    "    c4 = connect4.ConnectFour()\n",
    "    \n",
    "    #play the game until it says its done.\n",
    "    while not c4.done:\n",
    "        reshaped_grid = tf.convert_to_tensor(c4.grid.reshape(6*7).astype('float32'))\n",
    "        action_probs = tf.squeeze(player.simple_call(reshaped_grid)).numpy()\n",
    "        player_call = rng.choice(7, p=action_probs)\n",
    "        board_changed = c4.play(player_call)\n",
    "        if board_changed:\n",
    "            current_player = not current_player\n",
    "        "
   ]
  },
  {
   "cell_type": "code",
   "execution_count": 33,
   "id": "d34e9e7c",
   "metadata": {},
   "outputs": [
    {
     "data": {
      "text/plain": [
       "array([[ 0., -1.,  0.,  0.,  0.,  0.,  0.],\n",
       "       [ 0.,  1.,  0.,  0.,  0.,  0., -1.],\n",
       "       [ 0., -1.,  0.,  0.,  1.,  0.,  1.],\n",
       "       [-1.,  1.,  1.,  0., -1.,  1., -1.],\n",
       "       [ 1.,  1.,  1.,  0., -1., -1., -1.],\n",
       "       [-1., -1., -1.,  1.,  1.,  1.,  1.]], dtype=float32)"
      ]
     },
     "execution_count": 33,
     "metadata": {},
     "output_type": "execute_result"
    }
   ],
   "source": [
    "c4.grid"
   ]
  },
  {
   "cell_type": "code",
   "execution_count": 35,
   "id": "b79781d4",
   "metadata": {},
   "outputs": [
    {
     "data": {
      "text/plain": [
       "3"
      ]
     },
     "execution_count": 35,
     "metadata": {},
     "output_type": "execute_result"
    }
   ],
   "source": [
    "c4.count_adjacent(3,3,1)"
   ]
  },
  {
   "cell_type": "code",
   "execution_count": null,
   "id": "49c9165b",
   "metadata": {},
   "outputs": [],
   "source": []
  }
 ],
 "metadata": {
  "kernelspec": {
   "display_name": "Python 3 (ipykernel)",
   "language": "python",
   "name": "python3"
  },
  "language_info": {
   "codemirror_mode": {
    "name": "ipython",
    "version": 3
   },
   "file_extension": ".py",
   "mimetype": "text/x-python",
   "name": "python",
   "nbconvert_exporter": "python",
   "pygments_lexer": "ipython3",
   "version": "3.9.7"
  }
 },
 "nbformat": 4,
 "nbformat_minor": 5
}
